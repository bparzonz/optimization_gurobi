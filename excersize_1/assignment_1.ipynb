{
 "metadata": {
  "language_info": {
   "codemirror_mode": {
    "name": "ipython",
    "version": 3
   },
   "file_extension": ".py",
   "mimetype": "text/x-python",
   "name": "python",
   "nbconvert_exporter": "python",
   "pygments_lexer": "ipython3",
   "version": "3.8.3-final"
  },
  "orig_nbformat": 2,
  "kernelspec": {
   "name": "python3",
   "display_name": "Python 3"
  }
 },
 "nbformat": 4,
 "nbformat_minor": 2,
 "cells": [
  {
   "source": [
    "# Optimization 1\n",
    "## Benjamin Parsons"
   ],
   "cell_type": "markdown",
   "metadata": {}
  },
  {
   "source": [
    "## Question A\n",
    "\n",
    "Formulate a schedule that __minimizes the total under-allocation of each department to operating rooms.__ For  example, General Surgery currently  receives 48.4% of the total operating room time, and should therefore receive 48.4% of the total operating room time in the new schedule as well. In particular, the CEO has specified that under-allocation is to be avoided, meaning a penalty should be incurred if a department is allocated __less__ than its target %, but there should be no penalty if a department is allocated __more__ than its target % of operating room time.  \n",
    "\n",
    "Your model should produce a new schedule that minimizes the total under-allocation (on  apercentage basis). The reason for representing allocation on a percentage basis is that usingunits of time is not equitable: For example, a loss of 1 hour per week is much more disruptiveto Oral Surgery (currently 10 hrs/week) than it is for General Surgery (92 hrs/week)."
   ],
   "cell_type": "markdown",
   "metadata": {}
  },
  {
   "source": [
    "#### Decision Variables:  \n",
    "$x_{i_{department} k_{day} j_{room} }$: binary variable indicating if a department is assigned to use a room at a particular time.  \n",
    "$add\\_week\\_hrs_{ij}$: sum of a departments assigned hours in a particular room for the week.  \n",
    "$assigned\\_hrs_i$: sum of a departments assgined hours.  \n",
    "$u_i$: sum of a departments underassigned hours.  \n",
    "\n",
    "#### Constraints:  \n",
    "$total\\_hrs = 213.5$  \n",
    "$share_i = [.484, .042, .253, .074, .053, .095]$  \n",
    "$target\\_hrs_i = share_i * total\\_hrs$  \n",
    "$avail\\_hrs_kj = \\begin{bmatrix} 9 & 9 & 9 & 9 & 7.5 \\\\ 9 & 9 & 9 & 9 & 7.5 \\\\ 9 & 9 & 9 & 9 & 7.5 \\\\ 9 & 9 & 9 & 9 & 7.5 \\\\ 9 & 8 & 8 & 8 & 6.5 \\end{bmatrix}$  \n",
    "$\\sum_{i=1}^6x_{ikj} = 1$ : Only one department per room per day  \n",
    "$add\\_week\\_hrs_{ij} = \\sum_{k=1}^5avail\\_hrs_{kj} * x_{ikj}$ : sum of a departments assigned hours in a particular room for the week   \n",
    "\n",
    "$assigned\\_hrs_i = \\sum_{j=1}^5add\\_week\\_hrs_{ij}$ : sum of a departments assgined hours   \n",
    "$u_i \\geq target\\_hrs_i - assigned\\_hrs_i$  \n",
    "$u_i \\geq 0$ : forces the underassigned hours to be equal to its underassignemnt if positive, or 0 if overassigned\n",
    "\n",
    "#### Objective Function  \n",
    "$min \\sum_{i=1}^6 \\frac{u_i}{target\\_hrs_i}$  "
   ],
   "cell_type": "markdown",
   "metadata": {}
  },
  {
   "cell_type": "code",
   "execution_count": 1,
   "metadata": {},
   "outputs": [
    {
     "output_type": "stream",
     "name": "stdout",
     "text": [
      "Using license file /Users/benjaminparsons/gurobi.lic\n",
      "Academic license - for non-commercial use only - expires 2021-01-07\n"
     ]
    }
   ],
   "source": [
    "# Import gurobi and numpy\n",
    "from gurobipy import *\n",
    "import numpy as np\n",
    "\n",
    "# Define model and parameters. \n",
    "mod = Model()"
   ]
  },
  {
   "cell_type": "code",
   "execution_count": 2,
   "metadata": {},
   "outputs": [],
   "source": [
    "# Variable Identifiers\n",
    "department = range(6)\n",
    "room = range(5)\n",
    "weekday = range(5)\n",
    "\n",
    "# Parameters\n",
    "total_hrs = 213.5\n",
    "share = np.array([.484, .042, .253, .074, .053, .095])\n",
    "target_hrs = share * total_hrs\n",
    "\n",
    "avail_hrs = np.array([[9, 9, 9, 9, 7.5],\n",
    "                      [9, 9, 9, 9, 7.5],\n",
    "                      [9, 9, 9, 9, 7.5],\n",
    "                      [9, 9, 9, 9, 7.5],\n",
    "                      [9, 8, 8, 8, 6.5]])"
   ]
  },
  {
   "cell_type": "code",
   "execution_count": 3,
   "metadata": {},
   "outputs": [],
   "source": [
    "# Decision variables\n",
    "x = mod.addVars(len(department), len(weekday), len(room), vtype = GRB.BINARY)\n",
    "add_week_hrs = mod.addVars(len(department), len(room))\n",
    "assigned_hrs = mod.addVars(len(department))\n",
    "u = mod.addVars(len(department))"
   ]
  },
  {
   "cell_type": "code",
   "execution_count": 4,
   "metadata": {},
   "outputs": [],
   "source": [
    "# Constraint restriciting one department per room per weekday\n",
    "one_room_week_con = {}\n",
    "for j in room:\n",
    "    one_room_week_con[j] = {}\n",
    "    for k in weekday:\n",
    "       one_room_week_con[j][k] = mod.addConstr(sum([x[i,k,j] for i in department]) == 1)"
   ]
  },
  {
   "cell_type": "code",
   "execution_count": 5,
   "metadata": {},
   "outputs": [],
   "source": [
    "# Constraint assigning the sum of a departments hrs to a assigned_hrs variable\n",
    "assigned_week_hrs = {}\n",
    "assigned_room_hrs = {}\n",
    "\n",
    "for i in department:\n",
    "    for j in room:\n",
    "        assigned_week_hrs[j] = mod.addConstr(sum([x[i,k,j] * avail_hrs[k,j] for k in weekday]) == add_week_hrs[i,j])\n",
    "    assigned_room_hrs[i] = mod.addConstr(sum([add_week_hrs[i,j] for j in room]) == assigned_hrs[i])"
   ]
  },
  {
   "cell_type": "code",
   "execution_count": 6,
   "metadata": {},
   "outputs": [],
   "source": [
    "# Constraint defining the minimization problem to only focus on minimizing under allocation\n",
    "und_hrs_con = {}\n",
    "for i in department:\n",
    "    und_hrs_con[i] = mod.addConstr(target_hrs[i] - assigned_hrs[i] <= u[i])\n",
    "    \n",
    "und_hrs_con_none = {}\n",
    "for i in department:\n",
    "    und_hrs_con_none[i] = mod.addConstr(0 <= u[i])"
   ]
  },
  {
   "cell_type": "code",
   "execution_count": 7,
   "metadata": {},
   "outputs": [],
   "source": [
    "# Set objective function\n",
    "mod.setObjective(sum(u[i]/target_hrs[i] for i in department), GRB.MINIMIZE)"
   ]
  },
  {
   "cell_type": "code",
   "execution_count": 8,
   "metadata": {},
   "outputs": [
    {
     "output_type": "stream",
     "name": "stdout",
     "text": [
      "Gurobi Optimizer version 9.1.0 build v9.1.0rc0 (mac64)\n",
      "Thread count: 4 physical cores, 8 logical processors, using up to 8 threads\n",
      "Optimize a model with 73 rows, 192 columns and 384 nonzeros\n",
      "Model fingerprint: 0x8667cd66\n",
      "Variable types: 42 continuous, 150 integer (150 binary)\n",
      "Coefficient statistics:\n",
      "  Matrix range     [1e+00, 9e+00]\n",
      "  Objective range  [1e-02, 1e-01]\n",
      "  Bounds range     [1e+00, 1e+00]\n",
      "  RHS range        [1e+00, 1e+02]\n",
      "Presolve removed 42 rows and 36 columns\n",
      "Presolve time: 0.00s\n",
      "Presolved: 31 rows, 156 columns, 306 nonzeros\n",
      "Variable types: 4 continuous, 152 integer (150 binary)\n",
      "Found heuristic solution: objective 0.6795267\n",
      "Found heuristic solution: objective 0.1580699\n",
      "\n",
      "Root relaxation: objective 2.066116e-03, 54 iterations, 0.00 seconds\n",
      "\n",
      "    Nodes    |    Current Node    |     Objective Bounds      |     Work\n",
      " Expl Unexpl |  Obj  Depth IntInf | Incumbent    BestBd   Gap | It/Node Time\n",
      "\n",
      "     0     0    0.00207    0    9    0.15807    0.00207  98.7%     -    0s\n",
      "H    0     0                       0.0990305    0.00207  97.9%     -    0s\n",
      "H    0     0                       0.0897739    0.00207  97.7%     -    0s\n",
      "     0     0    0.05150    0    7    0.08977    0.05150  42.6%     -    0s\n",
      "H    0     0                       0.0519060    0.05150  0.79%     -    0s\n",
      "     0     0     cutoff    0         0.05191    0.05191  0.00%     -    0s\n",
      "\n",
      "Cutting planes:\n",
      "  Cover: 2\n",
      "  MIR: 2\n",
      "  StrongCG: 1\n",
      "\n",
      "Explored 1 nodes (136 simplex iterations) in 0.07 seconds\n",
      "Thread count was 8 (of 8 available processors)\n",
      "\n",
      "Solution count 5: 0.051906 0.0897739 0.0990305 ... 0.679527\n",
      "\n",
      "Optimal solution found (tolerance 1.00e-04)\n",
      "Best objective 5.190597648318e-02, best bound 5.190597648318e-02, gap 0.0000%\n"
     ]
    }
   ],
   "source": [
    "# Update and solve\n",
    "mod.update()\n",
    "mod.optimize()"
   ]
  },
  {
   "cell_type": "code",
   "execution_count": 9,
   "metadata": {},
   "outputs": [
    {
     "output_type": "execute_result",
     "data": {
      "text/plain": [
       "0.05190597648318124"
      ]
     },
     "metadata": {},
     "execution_count": 9
    }
   ],
   "source": [
    "mod.objval"
   ]
  },
  {
   "cell_type": "code",
   "execution_count": 10,
   "metadata": {},
   "outputs": [
    {
     "output_type": "stream",
     "name": "stdout",
     "text": [
      "[103.334    8.967   54.0155  15.799   11.3155  20.2825]\n[98.0, 9.0, 54.0, 16.0, 15.0, 21.5]\n"
     ]
    }
   ],
   "source": [
    "print(target_hrs)\n",
    "print([assigned_hrs[i].x for i in department])"
   ]
  },
  {
   "cell_type": "code",
   "execution_count": 11,
   "metadata": {},
   "outputs": [],
   "source": [
    "# Produce Schedule\n",
    "department_dic = {0: \"General Surgery\",\n",
    "                1: \"Emergency\",\n",
    "                2: \"Neurosurgery\",\n",
    "                3: \"Opthamology\",\n",
    "                4: \"Oral Surgery\",\n",
    "                5: \"Otolaryngology\"}"
   ]
  },
  {
   "cell_type": "code",
   "execution_count": 12,
   "metadata": {},
   "outputs": [
    {
     "output_type": "execute_result",
     "data": {
      "text/plain": [
       "                    Main-1           Main-2           Main-3           Main-4  \\\n",
       "Monday           Emergency     Neurosurgery  General Surgery  General Surgery   \n",
       "Tuesday    General Surgery  General Surgery  General Surgery     Neurosurgery   \n",
       "Wednesday     Neurosurgery  General Surgery  General Surgery     Neurosurgery   \n",
       "Thursday   General Surgery  General Surgery  General Surgery     Neurosurgery   \n",
       "Friday        Neurosurgery  General Surgery      Opthamology      Opthamology   \n",
       "\n",
       "                   Main-5  \n",
       "Monday     Otolaryngology  \n",
       "Tuesday      Oral Surgery  \n",
       "Wednesday    Oral Surgery  \n",
       "Thursday   Otolaryngology  \n",
       "Friday     Otolaryngology  "
      ],
      "text/html": "<div>\n<style scoped>\n    .dataframe tbody tr th:only-of-type {\n        vertical-align: middle;\n    }\n\n    .dataframe tbody tr th {\n        vertical-align: top;\n    }\n\n    .dataframe thead th {\n        text-align: right;\n    }\n</style>\n<table border=\"1\" class=\"dataframe\">\n  <thead>\n    <tr style=\"text-align: right;\">\n      <th></th>\n      <th>Main-1</th>\n      <th>Main-2</th>\n      <th>Main-3</th>\n      <th>Main-4</th>\n      <th>Main-5</th>\n    </tr>\n  </thead>\n  <tbody>\n    <tr>\n      <th>Monday</th>\n      <td>Emergency</td>\n      <td>Neurosurgery</td>\n      <td>General Surgery</td>\n      <td>General Surgery</td>\n      <td>Otolaryngology</td>\n    </tr>\n    <tr>\n      <th>Tuesday</th>\n      <td>General Surgery</td>\n      <td>General Surgery</td>\n      <td>General Surgery</td>\n      <td>Neurosurgery</td>\n      <td>Oral Surgery</td>\n    </tr>\n    <tr>\n      <th>Wednesday</th>\n      <td>Neurosurgery</td>\n      <td>General Surgery</td>\n      <td>General Surgery</td>\n      <td>Neurosurgery</td>\n      <td>Oral Surgery</td>\n    </tr>\n    <tr>\n      <th>Thursday</th>\n      <td>General Surgery</td>\n      <td>General Surgery</td>\n      <td>General Surgery</td>\n      <td>Neurosurgery</td>\n      <td>Otolaryngology</td>\n    </tr>\n    <tr>\n      <th>Friday</th>\n      <td>Neurosurgery</td>\n      <td>General Surgery</td>\n      <td>Opthamology</td>\n      <td>Opthamology</td>\n      <td>Otolaryngology</td>\n    </tr>\n  </tbody>\n</table>\n</div>"
     },
     "metadata": {},
     "execution_count": 12
    }
   ],
   "source": [
    "import pandas as pd\n",
    "\n",
    "df = pd.DataFrame(\n",
    "\t[[department_dic[i] for j in room for i in department if x[i,0,j].x == 1],\n",
    "    [department_dic[i] for j in room for i in department if x[i,1,j].x == 1],\n",
    "    [department_dic[i] for j in room for i in department if x[i,2,j].x == 1],\n",
    "    [department_dic[i] for j in room for i in department if x[i,3,j].x == 1],\n",
    "    [department_dic[i] for j in room for i in department if x[i,4,j].x == 1]],\n",
    "\tcolumns=[\"Main-1\", \"Main-2\", \"Main-3\", \"Main-4\", \"Main-5\"], \n",
    "    index =[\"Monday\", \"Tuesday\", \"Wednesday\", \"Thursday\", \"Friday\"])\n",
    "df"
   ]
  },
  {
   "source": [
    "## Question B   \n",
    "Operating rooms Main-1, Main-2 will be located on the first floor of the new hospital, Main-3 and  Main-4 will be on the second floor, and  Main-5 will be located on the third floor. To improve communication and mobility among department staff, the CEO has inquired whether it is possible to devise the schedule so that no department is split between two or more floors on the same day. For example, it is acceptable if a department is exclusively assigned to Main-1 onMonday and then Main-5 on Tuesday, but not acceptable if a department is assigned to Main-1 and Main-5 on the same day. Incorporate constraints into your base model from part a) to ensure that no department is allocated rooms on two different floors on the same day."
   ],
   "cell_type": "markdown",
   "metadata": {}
  },
  {
   "source": [
    "#### Additional Constraints:  \n",
    "$\\sum_{i=1}^6\\sum_{k=1}^5x_{i1k} + x_{i3k} + x_{i5k}\\leq 1$  \n",
    "$\\sum_{i=1}^6\\sum_{k=1}^5x_{i2k} + x_{i3k} + x_{i5k}\\leq 1$  \n",
    "$\\sum_{i=1}^6\\sum_{k=1}^5x_{i1k} + x_{i4k} + x_{i5k}\\leq 1$  \n",
    "$\\sum_{i=1}^6\\sum_{k=1}^5x_{i2k} + x_{i3k} + x_{i5k}\\leq 1$  \n",
    "\n",
    "These constraints force the sum of a departments assigned binary variables to be less than or equal to 1 accross different floors\n"
   ],
   "cell_type": "markdown",
   "metadata": {}
  },
  {
   "cell_type": "code",
   "execution_count": 13,
   "metadata": {},
   "outputs": [],
   "source": [
    "# Additional constraints\n",
    "level_con_one = {}\n",
    "for i in department:\n",
    "    level_con_one[i] = {}\n",
    "    for k in weekday:\n",
    "        level_con_one[i][k] = mod.addConstr(x[i,k,0]+x[i,k,2]+x[i,k,4] <= 1)\n",
    "\n",
    "level_con_two = {}\n",
    "for i in department:\n",
    "    level_con_two[i] = {}\n",
    "    for k in weekday:\n",
    "        level_con_two[i][k] = mod.addConstr(x[i,k,0]+x[i,k,3]+x[i,k,4] <= 1)\n",
    "\n",
    "level_con_three = {}\n",
    "for i in department:\n",
    "    level_con_three[i] = {}\n",
    "    for k in weekday:\n",
    "        level_con_three[i][k] = mod.addConstr(x[i,k,1]+x[i,k,2]+x[i,k,4] <= 1)\n",
    "\n",
    "level_con_four = {}\n",
    "for i in department:\n",
    "    level_con_four[i] = {}\n",
    "    for k in weekday:\n",
    "        level_con_four[i][k] = mod.addConstr(x[i,k,1]+x[i,k,3]+x[i,k,4] <= 1)"
   ]
  },
  {
   "cell_type": "code",
   "execution_count": 14,
   "metadata": {},
   "outputs": [
    {
     "output_type": "stream",
     "name": "stdout",
     "text": [
      "Gurobi Optimizer version 9.1.0 build v9.1.0rc0 (mac64)\n",
      "Thread count: 4 physical cores, 8 logical processors, using up to 8 threads\n",
      "Optimize a model with 193 rows, 192 columns and 744 nonzeros\n",
      "Model fingerprint: 0x3829dd84\n",
      "Variable types: 42 continuous, 150 integer (150 binary)\n",
      "Coefficient statistics:\n",
      "  Matrix range     [1e+00, 9e+00]\n",
      "  Objective range  [1e-02, 1e-01]\n",
      "  Bounds range     [1e+00, 1e+00]\n",
      "  RHS range        [1e+00, 1e+02]\n",
      "\n",
      "MIP start from previous solve did not produce a new incumbent solution\n",
      "MIP start from previous solve violates constraint R74 by 1.000000000\n",
      "\n",
      "Presolve removed 37 rows and 31 columns\n",
      "Presolve time: 0.00s\n",
      "Presolved: 156 rows, 161 columns, 676 nonzeros\n",
      "Variable types: 4 continuous, 157 integer (150 binary)\n",
      "Found heuristic solution: objective 1.6709699\n",
      "\n",
      "Root relaxation: objective 1.387152e-01, 68 iterations, 0.00 seconds\n",
      "\n",
      "    Nodes    |    Current Node    |     Objective Bounds      |     Work\n",
      " Expl Unexpl |  Obj  Depth IntInf | Incumbent    BestBd   Gap | It/Node Time\n",
      "\n",
      "H    0     0                       0.1387152    0.13872  0.00%     -    0s\n",
      "     0     0    0.13872    0    4    0.13872    0.13872  0.00%     -    0s\n",
      "\n",
      "Explored 0 nodes (95 simplex iterations) in 0.04 seconds\n",
      "Thread count was 8 (of 8 available processors)\n",
      "\n",
      "Solution count 2: 0.138715 1.67097 \n",
      "\n",
      "Optimal solution found (tolerance 1.00e-04)\n",
      "Best objective 1.387152340953e-01, best bound 1.387152340953e-01, gap 0.0000%\n"
     ]
    }
   ],
   "source": [
    "mod.update()\n",
    "mod.optimize()"
   ]
  },
  {
   "cell_type": "code",
   "execution_count": 15,
   "metadata": {},
   "outputs": [
    {
     "output_type": "execute_result",
     "data": {
      "text/plain": [
       "0.13871523409526393"
      ]
     },
     "metadata": {},
     "execution_count": 15
    }
   ],
   "source": [
    "mod.objval"
   ]
  },
  {
   "cell_type": "code",
   "execution_count": 16,
   "metadata": {},
   "outputs": [
    {
     "output_type": "stream",
     "name": "stdout",
     "text": [
      "[103.334    8.967   54.0155  15.799   11.3155  20.2825]\n[89.0, 9.0, 56.5, 18.0, 18.0, 23.0]\n"
     ]
    }
   ],
   "source": [
    "print(target_hrs)\n",
    "print([assigned_hrs[i].x for i in department])"
   ]
  },
  {
   "cell_type": "code",
   "execution_count": 17,
   "metadata": {},
   "outputs": [
    {
     "output_type": "execute_result",
     "data": {
      "text/plain": [
       "                    Main-1           Main-2           Main-3           Main-4  \\\n",
       "Monday     General Surgery  General Surgery   Otolaryngology        Emergency   \n",
       "Tuesday       Neurosurgery     Neurosurgery  General Surgery  General Surgery   \n",
       "Wednesday  General Surgery  General Surgery      Opthamology     Oral Surgery   \n",
       "Thursday   General Surgery  General Surgery     Oral Surgery      Opthamology   \n",
       "Friday     General Surgery  General Surgery     Neurosurgery     Neurosurgery   \n",
       "\n",
       "                   Main-5  \n",
       "Monday       Neurosurgery  \n",
       "Tuesday    Otolaryngology  \n",
       "Wednesday    Neurosurgery  \n",
       "Thursday     Neurosurgery  \n",
       "Friday     Otolaryngology  "
      ],
      "text/html": "<div>\n<style scoped>\n    .dataframe tbody tr th:only-of-type {\n        vertical-align: middle;\n    }\n\n    .dataframe tbody tr th {\n        vertical-align: top;\n    }\n\n    .dataframe thead th {\n        text-align: right;\n    }\n</style>\n<table border=\"1\" class=\"dataframe\">\n  <thead>\n    <tr style=\"text-align: right;\">\n      <th></th>\n      <th>Main-1</th>\n      <th>Main-2</th>\n      <th>Main-3</th>\n      <th>Main-4</th>\n      <th>Main-5</th>\n    </tr>\n  </thead>\n  <tbody>\n    <tr>\n      <th>Monday</th>\n      <td>General Surgery</td>\n      <td>General Surgery</td>\n      <td>Otolaryngology</td>\n      <td>Emergency</td>\n      <td>Neurosurgery</td>\n    </tr>\n    <tr>\n      <th>Tuesday</th>\n      <td>Neurosurgery</td>\n      <td>Neurosurgery</td>\n      <td>General Surgery</td>\n      <td>General Surgery</td>\n      <td>Otolaryngology</td>\n    </tr>\n    <tr>\n      <th>Wednesday</th>\n      <td>General Surgery</td>\n      <td>General Surgery</td>\n      <td>Opthamology</td>\n      <td>Oral Surgery</td>\n      <td>Neurosurgery</td>\n    </tr>\n    <tr>\n      <th>Thursday</th>\n      <td>General Surgery</td>\n      <td>General Surgery</td>\n      <td>Oral Surgery</td>\n      <td>Opthamology</td>\n      <td>Neurosurgery</td>\n    </tr>\n    <tr>\n      <th>Friday</th>\n      <td>General Surgery</td>\n      <td>General Surgery</td>\n      <td>Neurosurgery</td>\n      <td>Neurosurgery</td>\n      <td>Otolaryngology</td>\n    </tr>\n  </tbody>\n</table>\n</div>"
     },
     "metadata": {},
     "execution_count": 17
    }
   ],
   "source": [
    "floor_df = pd.DataFrame(\n",
    "\t[[department_dic[i] for j in room for i in department if x[i,0,j].x == 1],\n",
    "    [department_dic[i] for j in room for i in department if x[i,1,j].x == 1],\n",
    "    [department_dic[i] for j in room for i in department if x[i,2,j].x == 1],\n",
    "    [department_dic[i] for j in room for i in department if x[i,3,j].x == 1],\n",
    "    [department_dic[i] for j in room for i in department if x[i,4,j].x == 1]],\n",
    "\tcolumns=[\"Main-1\", \"Main-2\", \"Main-3\", \"Main-4\", \"Main-5\"], \n",
    "    index =[\"Monday\", \"Tuesday\", \"Wednesday\", \"Thursday\", \"Friday\"])\n",
    "floor_df"
   ]
  }
 ]
}