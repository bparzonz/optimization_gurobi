{
 "cells": [
  {
   "cell_type": "markdown",
   "metadata": {},
   "source": [
    "## MGMTMSA 403 Homework 2: Portfolio Optimization\n"
   ]
  },
  {
   "cell_type": "markdown",
   "metadata": {},
   "source": [
    "## Pre-processing step: Estimate expected returns and covariance"
   ]
  },
  {
   "cell_type": "code",
   "execution_count": 76,
   "metadata": {},
   "outputs": [],
   "source": [
    "# Import gurobi and numpy\n",
    "from gurobipy import *\n",
    "import numpy as np\n",
    "from numpy import genfromtxt\n",
    "import csv\n",
    "import pandas as pd\n",
    "\n",
    "## Get index of 4 tickers\n",
    "tick4 = [\"MSFT\",\"GS\",\"PG\",\"SCHP\"]\n",
    "\n",
    "# Get variable names\n",
    "with open('Prices.csv') as csvFile:\n",
    "    reader = csv.reader(csvFile)\n",
    "    tickers = next(reader) ## stores the tickets of all 390 stocks\n",
    "\n",
    "tickind =[]\n",
    "for t in tick4:\n",
    "    tickind.append(tickers.index(t)) ## collect index that corresponds to each ticker\n",
    "\n",
    "# Load data\n",
    "prices = genfromtxt('Prices.csv', delimiter=',',skip_header = 1)\n",
    "\n",
    "# get dimensions of data\n",
    "d = prices.shape[0]\n",
    "n = prices.shape[1]\n",
    "\n",
    "# calculate monthly returns of each stock\n",
    "returns = np.zeros((d-1,n))\n",
    "for stock in range(n):\n",
    "    for month in range(d-1):\n",
    "        returns[month,stock] = prices[month+1,stock]/prices[month,stock]-1\n",
    "        \n",
    "# Store average return (parameter r_i in portfolio optimization model)       \n",
    "avg_return = np.zeros(n)\n",
    "avg_return = np.mean(returns,axis=0)\n",
    "\n",
    "# Store covariance matrix (parameter C_ij in portfolio optimization model)\n",
    "stocks_var_all = np.zeros((n,n))\n",
    "stocks_var_all = np.cov(np.transpose(returns))\n"
   ]
  },
  {
   "source": [
    "__Model 1.__ Start by focusing on a four-asset portfolio: Suppose you can only invest in Microsoft (MSFT), Goldman Sachs (GS), Proctor & Gamble (PG), and U.S. Treasury Bonds (SCHP). Con- struct a minimum-variance portfolio with an expected monthly return of at least 0.5%."
   ],
   "cell_type": "markdown",
   "metadata": {}
  },
  {
   "cell_type": "code",
   "execution_count": 77,
   "metadata": {},
   "outputs": [
    {
     "output_type": "execute_result",
     "data": {
      "text/plain": [
       "[315, 216, 372, 388]"
      ]
     },
     "metadata": {},
     "execution_count": 77
    }
   ],
   "source": [
    "tickind"
   ]
  },
  {
   "cell_type": "code",
   "execution_count": 78,
   "metadata": {},
   "outputs": [],
   "source": [
    "stock_4 = avg_return[tickind]"
   ]
  },
  {
   "cell_type": "code",
   "execution_count": 79,
   "metadata": {},
   "outputs": [],
   "source": [
    "# set model\n",
    "mod = Model()\n",
    "# Variable Identifiers\n",
    "stocks = range(4)\n",
    "\n",
    "# Decision variables\n",
    "w = mod.addVars(len(stocks))\n",
    "\n",
    "# Constraints\n",
    "min_return = mod.addConstr(sum([w[i]*stock_4[i] for i in stocks]) >= .005)\n",
    "probability = mod.addConstr(sum([w[i] for i in stocks]) == 1)\n",
    "\n",
    "no_neg = {}\n",
    "for i in stocks:\n",
    "    no_neg[i] = mod.addConstr(w[i] >= 0)\n",
    "\n",
    "# Objective\n",
    "mod.setObjective(sum([w[i]*w[k]*stocks_var[i,k] for i in stocks for k in stocks]), GRB.MINIMIZE)"
   ]
  },
  {
   "cell_type": "code",
   "execution_count": 80,
   "metadata": {},
   "outputs": [
    {
     "output_type": "stream",
     "name": "stdout",
     "text": [
      "Gurobi Optimizer version 9.1.0 build v9.1.0rc0 (mac64)\n",
      "Thread count: 4 physical cores, 8 logical processors, using up to 8 threads\n",
      "Optimize a model with 6 rows, 4 columns and 12 nonzeros\n",
      "Model fingerprint: 0xfd1dae80\n",
      "Model has 10 quadratic objective terms\n",
      "Coefficient statistics:\n",
      "  Matrix range     [2e-04, 1e+00]\n",
      "  Objective range  [0e+00, 0e+00]\n",
      "  QObjective range [5e-05, 7e-03]\n",
      "  Bounds range     [0e+00, 0e+00]\n",
      "  RHS range        [5e-03, 1e+00]\n",
      "Presolve removed 4 rows and 0 columns\n",
      "Presolve time: 0.01s\n",
      "Presolved: 2 rows, 4 columns, 8 nonzeros\n",
      "Presolved model has 10 quadratic objective terms\n",
      "Ordering time: 0.00s\n",
      "\n",
      "Barrier statistics:\n",
      " Free vars  : 3\n",
      " AA' NZ     : 1.000e+01\n",
      " Factor NZ  : 1.500e+01\n",
      " Factor Ops : 5.500e+01 (less than 1 second per iteration)\n",
      " Threads    : 1\n",
      "\n",
      "                  Objective                Residual\n",
      "Iter       Primal          Dual         Primal    Dual     Compl     Time\n",
      "   0   1.87864836e+05 -1.87864836e+05  3.50e+03 1.91e-07  1.00e+06     0s\n",
      "   1   5.03195868e+03 -5.16248579e+03  2.59e+02 1.41e-08  7.60e+04     0s\n",
      "   2   8.65509708e-03 -1.63980611e+02  5.37e-01 2.93e-11  1.91e+02     0s\n",
      "   3   9.86310203e-04 -1.11685777e+02  5.37e-07 3.04e-17  2.23e+01     0s\n",
      "   4   9.86278716e-04 -1.12363063e-01  8.01e-12 3.47e-18  2.27e-02     0s\n",
      "   5   9.62254421e-04 -7.39765491e-04  8.51e-14 2.17e-19  3.40e-04     0s\n",
      "   6   2.39090553e-04 -5.58090861e-04  2.78e-17 1.73e-18  1.59e-04     0s\n",
      "   7   1.89326156e-04  1.66699694e-04  6.94e-18 2.17e-18  4.53e-06     0s\n",
      "   8   1.77828223e-04  1.76221352e-04  1.39e-16 1.73e-18  3.21e-07     0s\n",
      "   9   1.77494541e-04  1.77442512e-04  1.03e-15 0.00e+00  1.04e-08     0s\n",
      "  10   1.77493265e-04  1.77493214e-04  7.91e-15 1.73e-18  1.03e-11     0s\n",
      "\n",
      "Barrier solved model in 10 iterations and 0.04 seconds\n",
      "Optimal objective 1.77493265e-04\n",
      "\n"
     ]
    }
   ],
   "source": [
    "# Update and solve\n",
    "mod.update()\n",
    "mod.optimize()"
   ]
  },
  {
   "cell_type": "code",
   "execution_count": 81,
   "metadata": {},
   "outputs": [
    {
     "output_type": "stream",
     "name": "stdout",
     "text": [
      "['MSFT 0.237', 'GS 0.026', 'PG 0.0', 'SCHP 0.737']\n"
     ]
    },
    {
     "output_type": "execute_result",
     "data": {
      "text/plain": [
       "0.00017749326516578"
      ]
     },
     "metadata": {},
     "execution_count": 81
    }
   ],
   "source": [
    "print([f'{tick4[i]} {round(w[i].x,3)}' for i in stocks])\n",
    "mod.objval"
   ]
  },
  {
   "source": [
    "### Write down the optimal risk (i.e. the optimal objective function value), solver time, and the weight on each of the four stocks.\n",
    "\n",
    "The minimized variance was 0.0177%. This model was solved in .04 seconds. The weights were:\n",
    "* MSFT: 0.237\n",
    "* GS: 0.026\n",
    "* PG: 0.0\n",
    "* SCHP: 0.737"
   ],
   "cell_type": "markdown",
   "metadata": {}
  },
  {
   "source": [
    "__Model 2.__ Now suppose you can invest in all 390 stocks. Construct a minimum-variance portfolio with an expected monthly return of at least 0.5%."
   ],
   "cell_type": "markdown",
   "metadata": {}
  },
  {
   "cell_type": "code",
   "execution_count": 82,
   "metadata": {},
   "outputs": [],
   "source": [
    "# set model\n",
    "mod2 = Model()\n",
    "\n",
    "# Variable Identifiers\n",
    "stocks_all = range(n)\n",
    "\n",
    "# Decision variables\n",
    "w_all = mod2.addVars(n)\n",
    "\n",
    "# Constraints\n",
    "min_return2 = mod2.addConstr(sum([w_all[i]*avg_return[i] for i in stocks_all]) >= .005)\n",
    "probability2 = mod2.addConstr(sum([w_all[i] for i in stocks_all]) == 1)\n",
    "\n",
    "no_neg2 = {}\n",
    "for i in stocks_all:\n",
    "    no_neg[i] = mod2.addConstr(w_all[i] >= 0)\n",
    "\n",
    "# Objective\n",
    "mod2.setObjective(sum([w_all[i]*w_all[k]*stocks_var_all[i,k] for i in stocks_all for k in stocks_all]), GRB.MINIMIZE)"
   ]
  },
  {
   "cell_type": "code",
   "execution_count": 83,
   "metadata": {},
   "outputs": [
    {
     "output_type": "stream",
     "name": "stdout",
     "text": [
      "Gurobi Optimizer version 9.1.0 build v9.1.0rc0 (mac64)\n",
      "Thread count: 4 physical cores, 8 logical processors, using up to 8 threads\n",
      "Optimize a model with 392 rows, 390 columns and 1170 nonzeros\n",
      "Model fingerprint: 0x7b7d38a0\n",
      "Model has 76245 quadratic objective terms\n",
      "Coefficient statistics:\n",
      "  Matrix range     [1e-06, 1e+00]\n",
      "  Objective range  [0e+00, 0e+00]\n",
      "  QObjective range [2e-07, 8e-02]\n",
      "  Bounds range     [0e+00, 0e+00]\n",
      "  RHS range        [5e-03, 1e+00]\n",
      "Presolve removed 390 rows and 0 columns\n",
      "Presolve time: 0.01s\n",
      "Presolved: 2 rows, 390 columns, 780 nonzeros\n",
      "Presolved model has 76245 quadratic objective terms\n",
      "Ordering time: 0.00s\n",
      "\n",
      "Barrier statistics:\n",
      " Free vars  : 59\n",
      " AA' NZ     : 1.830e+03\n",
      " Factor NZ  : 1.891e+03\n",
      " Factor Ops : 7.753e+04 (less than 1 second per iteration)\n",
      " Threads    : 4\n",
      "\n",
      "                  Objective                Residual\n",
      "Iter       Primal          Dual         Primal    Dual     Compl     Time\n",
      "   0   2.89821559e-13 -2.89821559e-13  3.90e+05 3.22e-07  1.00e+06     0s\n",
      "   1   2.43039969e+03 -3.41875696e+03  1.04e+04 8.59e-09  2.67e+04     0s\n",
      "   2   3.54479277e-03 -1.01970099e+03  9.49e+00 7.84e-12  2.70e+01     0s\n",
      "   3   9.56987699e-04 -8.30932860e+02  9.49e-06 1.04e-17  2.13e+00     0s\n",
      "   4   9.56984024e-04 -8.32258791e-01  2.62e-11 1.95e-13  2.13e-03     0s\n",
      "   5   9.54080582e-04 -2.12856913e-03  6.86e-14 5.13e-16  7.88e-06     0s\n",
      "   6   5.14591256e-04 -5.41776815e-04  3.77e-15 2.78e-17  2.70e-06     0s\n",
      "   7   2.09259694e-04 -1.98530451e-04  4.77e-15 1.73e-18  1.04e-06     0s\n",
      "   8   8.76565669e-05 -2.50288443e-05  7.77e-16 8.67e-19  2.88e-07     0s\n",
      "   9   5.20861410e-05  1.71919030e-05  5.55e-16 8.67e-19  8.92e-08     0s\n",
      "  10   3.83492078e-05  2.50073953e-05  3.11e-15 4.34e-19  3.41e-08     0s\n",
      "  11   3.26253781e-05  2.77940249e-05  6.22e-15 1.63e-19  1.24e-08     0s\n",
      "  12   2.94790948e-05  2.87007171e-05  5.33e-15 4.34e-19  1.99e-09     0s\n",
      "  13   2.87991618e-05  2.87838933e-05  1.82e-14 4.34e-19  3.90e-11     0s\n",
      "  14   2.87853755e-05  2.87849519e-05  3.91e-14 4.34e-19  1.08e-12     0s\n",
      "\n",
      "Barrier solved model in 14 iterations and 0.06 seconds\n",
      "Optimal objective 2.87853755e-05\n",
      "\n"
     ]
    }
   ],
   "source": [
    "# Update and solve\n",
    "mod2.update()\n",
    "mod2.optimize()"
   ]
  },
  {
   "cell_type": "code",
   "execution_count": 84,
   "metadata": {},
   "outputs": [
    {
     "output_type": "stream",
     "name": "stdout",
     "text": [
      "['ABBV 0.0114', 'ABMD 0.0067', 'ATVI 0.0137', 'ANET 0.0118', 'AIZ 0.0222', 'ATO 0.0291', 'BBY 0.0026', 'CME 0.0128', 'ED 0.0002', 'DRI 0.0067', 'RE 0.0023', 'GWW 0.0078', 'HAS 0.0025', 'HCA 0.0296', 'HUM 0.0227', 'INFO 0.0517', 'ICE 0.0142', 'KEYS 0.0222', 'LLY 0.0085', 'LMT 0.0007', 'PSX 0.008', 'PNC 0.0323', 'BND 0.6805']\n"
     ]
    },
    {
     "output_type": "execute_result",
     "data": {
      "text/plain": [
       "2.8785375543939184e-05"
      ]
     },
     "metadata": {},
     "execution_count": 84
    }
   ],
   "source": [
    "print([f'{tickers[i]} {round(w_all[i].x,4)}' for i in stocks_all if w_all[i].x >= .0001])\n",
    "mod2.objval"
   ]
  },
  {
   "source": [
    "### Write down the optimal risk and solver time.\n",
    "\n",
    "The minimized variance was 0.002878%. This model was solved in .07 seconds."
   ],
   "cell_type": "markdown",
   "metadata": {}
  },
  {
   "source": [
    "__Model 3.__ In practice, there are transaction fees associated with buying stocks. One way of keeping transaction fees low while still attaining desirable performance is to limit the total number of stocks that are purchased (i.e. limit the number of stocks that have a strictly positive weight). Construct a minimum-variance portfolio that selects at most 4 of the 390 stocks, and has an expected monthly return of at least 0.5%. (Note: By introducing binary variables into a quadratic program, we obtain a quadratic integer program. Fortunately, this particular __quadratic integer program__ can be solved by Gurobi.)"
   ],
   "cell_type": "markdown",
   "metadata": {}
  },
  {
   "cell_type": "code",
   "execution_count": 85,
   "metadata": {},
   "outputs": [],
   "source": [
    "# set model\n",
    "mod3 = Model()\n",
    "\n",
    "# Decision variables\n",
    "w_all4 = mod3.addVars(n)\n",
    "w_bin = mod3.addVars(n, vtype = GRB.BINARY)\n",
    "\n",
    "# Constraints\n",
    "min_return3 = mod3.addConstr(sum([w_all4[i]*avg_return[i] for i in stocks_all]) >= .005)\n",
    "probability3 = mod3.addConstr(sum([w_all4[i] for i in stocks_all]) == 1)\n",
    "binary = mod3.addConstr(sum([w_bin[i] for i in stocks_all]) <= 4)\n",
    "\n",
    "bin_op = {}\n",
    "for i in stocks_all:\n",
    "    bin_op[i] = mod3.addConstr(w_all4[i]*w_bin[i] == w_all4[i])\n",
    "\n",
    "no_neg3 = {}\n",
    "for i in stocks_all:\n",
    "    no_neg[i] = mod3.addConstr(w_all4[i] >= 0)\n",
    "\n",
    "# Objective\n",
    "mod3.setObjective(sum([w_all4[i]*w_all4[k]*stocks_var_all[i,k] for i in stocks_all for k in stocks_all]), GRB.MINIMIZE)"
   ]
  },
  {
   "cell_type": "code",
   "execution_count": 86,
   "metadata": {},
   "outputs": [
    {
     "output_type": "stream",
     "name": "stdout",
     "text": [
      "Gurobi Optimizer version 9.1.0 build v9.1.0rc0 (mac64)\n",
      "Thread count: 4 physical cores, 8 logical processors, using up to 8 threads\n",
      "Optimize a model with 393 rows, 780 columns and 1560 nonzeros\n",
      "Model fingerprint: 0xc9d677c6\n",
      "Model has 76245 quadratic objective terms\n",
      "Model has 390 quadratic constraints\n",
      "Variable types: 390 continuous, 390 integer (390 binary)\n",
      "Coefficient statistics:\n",
      "  Matrix range     [1e-06, 1e+00]\n",
      "  QMatrix range    [1e+00, 1e+00]\n",
      "  QLMatrix range   [1e+00, 1e+00]\n",
      "  Objective range  [0e+00, 0e+00]\n",
      "  QObjective range [2e-07, 8e-02]\n",
      "  Bounds range     [1e+00, 1e+00]\n",
      "  RHS range        [5e-03, 4e+00]\n",
      "Presolve time: 0.02s\n",
      "Presolved: 393 rows, 780 columns, 1950 nonzeros\n",
      "Presolved model has 76245 quadratic objective terms\n",
      "Variable types: 390 continuous, 390 integer (390 binary)\n",
      "Found heuristic solution: objective 0.0009032\n",
      "\n",
      "Root relaxation: objective 2.878501e-05, 129 iterations, 0.00 seconds\n",
      "\n",
      "    Nodes    |    Current Node    |     Objective Bounds      |     Work\n",
      " Expl Unexpl |  Obj  Depth IntInf | Incumbent    BestBd   Gap | It/Node Time\n",
      "\n",
      "     0     0    0.00003    0   21    0.00090    0.00003  96.8%     -    0s\n",
      "H    0     0                       0.0001299    0.00003  77.8%     -    0s\n",
      "H    0     0                       0.0001224    0.00003  76.5%     -    0s\n",
      "     0     0    0.00003    0   21    0.00012    0.00003  76.5%     -    0s\n",
      "H    0     0                       0.0000723    0.00003  60.2%     -    0s\n",
      "     0     0    0.00003    0   21    0.00007    0.00003  59.4%     -    0s\n",
      "     0     2    0.00003    0   21    0.00007    0.00003  59.0%     -    0s\n",
      "H  150    95                       0.0000675    0.00003  56.1%  66.5    0s\n",
      "  3782  1277    0.00006   36   19    0.00007    0.00003  48.3%  55.9    5s\n",
      " 11585  5412    0.00006   31   19    0.00007    0.00004  39.2%  41.0   10s\n",
      " 20783  9093    0.00005   22   28    0.00007    0.00005  25.1%  38.1   15s\n",
      " 29519  9827     cutoff   48         0.00007    0.00006  16.9%  38.8   23s\n",
      " 30922  9457    0.00006   39   19    0.00007    0.00006  15.6%  40.4   25s\n",
      " 33787  8685    0.00006   53   15    0.00007    0.00006  13.3%  46.9   30s\n",
      " 36589  8147    0.00006   55   27    0.00007    0.00006  11.5%  51.8   35s\n",
      " 40189  7449    0.00007   38   15    0.00007    0.00006  9.53%  55.3   40s\n",
      " 43510  6132    0.00006   51   19    0.00007    0.00006  7.55%  58.3   46s\n",
      " 46162  4841     cutoff   42         0.00007    0.00006  5.79%  59.7   50s\n",
      " 50476  2172     cutoff   31         0.00007    0.00007  3.37%  60.0   55s\n",
      "\n",
      "Cutting planes:\n",
      "  MIR: 21\n",
      "  Flow cover: 10\n",
      "\n",
      "Explored 54338 nodes (3229222 simplex iterations) in 58.23 seconds\n",
      "Thread count was 8 (of 8 available processors)\n",
      "\n",
      "Solution count 5: 6.75347e-05 7.23026e-05 0.000122366 ... 0.000903152\n",
      "\n",
      "Optimal solution found (tolerance 1.00e-04)\n",
      "Best objective 6.753470760728e-05, best bound 6.753470760728e-05, gap 0.0000%\n"
     ]
    }
   ],
   "source": [
    "# Update and solve\n",
    "mod3.update()\n",
    "mod3.optimize()"
   ]
  },
  {
   "cell_type": "code",
   "execution_count": 87,
   "metadata": {},
   "outputs": [
    {
     "output_type": "stream",
     "name": "stdout",
     "text": [
      "['CME 0.1264', 'LLY 0.0755', 'NVDA 0.0438', 'BND 0.7544']\n"
     ]
    },
    {
     "output_type": "execute_result",
     "data": {
      "text/plain": [
       "6.753470760728118e-05"
      ]
     },
     "metadata": {},
     "execution_count": 87
    }
   ],
   "source": [
    "print([f'{tickers[i]} {round(w_all4[i].x,4)}' for i in stocks_all if w_all4[i].x > 0])\n",
    "mod3.objval"
   ]
  },
  {
   "source": [
    "### Report the optimal risk, solver time, and the ticker and weight on each of the four stocks selected by the model.\n",
    "\n",
    "The minimized variance was 0.006753%. This model was solved in 57.23 seconds. The weights were:\n",
    "* CME: 0.1264\n",
    "* LLY: 0.0755\n",
    "* NVDA: 0.0438\n",
    "* BND: 0.7544"
   ],
   "cell_type": "markdown",
   "metadata": {}
  },
  {
   "source": [
    "### Use your solution to Question 1 above to answer the following questions:\n",
    "\n",
    "a) Is the optimal risk in Model 1 higher or lower than Model 2? Explain why in 1-2 sentences.  \n",
    "\n",
    "The optimal risk is higher in Model 1. This is likely due to the fact that SCHP is the lowest variance investment but it does not return a high enough yeild to meet the .5% return constraint on its own. There is likely an investment in all 390 that has a higher return with a similarly low variance.\n",
    "\n",
    "b) Is the optimal risk in Model 2 higher or lower than Model 3? Explain why in 1-2 sentences.\n",
    "\n",
    "The optimal risk is lower in Model 2. Becuase were restricting our selection to 4 investments, we can not as efficiently minimize our variance while also meeting the investment return cosntraint. If the optimal number of selections was 4 or less, then the optimal risk would be the same."
   ],
   "cell_type": "markdown",
   "metadata": {}
  },
  {
   "source": [
    "### In some cases, we may want to get an approximate solution quickly by terminating the branch- and-bound algorithm before it finds an optimal solution. There are two ways to terminate Gurobi early: (a) by setting a maximum time limit, and (b) by setting a maximum acceptable optimality gap (the tolerance). Use Model 3 to answer the following two questions. For each part, also include your Gurobi output."
   ],
   "cell_type": "markdown",
   "metadata": {}
  },
  {
   "source": [
    "a) Set Gurobi to terminate after 30 seconds by including XYZ.Params.TimeLimit = 30.0 in your code for Model 3, where ’XYZ’ is the name of your model. How does the objective function value at termination compare the optimal value obtained in question 1c)?"
   ],
   "cell_type": "markdown",
   "metadata": {}
  },
  {
   "cell_type": "code",
   "execution_count": 88,
   "metadata": {},
   "outputs": [
    {
     "output_type": "stream",
     "name": "stdout",
     "text": [
      "Changed value of parameter TimeLimit to 30.0\n",
      "   Prev: inf  Min: 0.0  Max: inf  Default: inf\n"
     ]
    }
   ],
   "source": [
    "mod3.Params.TimeLimit = 30.0 "
   ]
  },
  {
   "cell_type": "code",
   "execution_count": 90,
   "metadata": {},
   "outputs": [
    {
     "output_type": "stream",
     "name": "stdout",
     "text": [
      "Discarded solution information\n",
      "Gurobi Optimizer version 9.1.0 build v9.1.0rc0 (mac64)\n",
      "Thread count: 4 physical cores, 8 logical processors, using up to 8 threads\n",
      "Optimize a model with 393 rows, 780 columns and 1560 nonzeros\n",
      "Model fingerprint: 0xc9d677c6\n",
      "Model has 76245 quadratic objective terms\n",
      "Model has 390 quadratic constraints\n",
      "Variable types: 390 continuous, 390 integer (390 binary)\n",
      "Coefficient statistics:\n",
      "  Matrix range     [1e-06, 1e+00]\n",
      "  QMatrix range    [1e+00, 1e+00]\n",
      "  QLMatrix range   [1e+00, 1e+00]\n",
      "  Objective range  [0e+00, 0e+00]\n",
      "  QObjective range [2e-07, 8e-02]\n",
      "  Bounds range     [1e+00, 1e+00]\n",
      "  RHS range        [5e-03, 4e+00]\n",
      "Presolve time: 0.01s\n",
      "Presolved: 393 rows, 780 columns, 1950 nonzeros\n",
      "Presolved model has 76245 quadratic objective terms\n",
      "Variable types: 390 continuous, 390 integer (390 binary)\n",
      "Found heuristic solution: objective 0.0009032\n",
      "\n",
      "Root relaxation: objective 2.878501e-05, 129 iterations, 0.01 seconds\n",
      "\n",
      "    Nodes    |    Current Node    |     Objective Bounds      |     Work\n",
      " Expl Unexpl |  Obj  Depth IntInf | Incumbent    BestBd   Gap | It/Node Time\n",
      "\n",
      "     0     0    0.00003    0   21    0.00090    0.00003  96.8%     -    0s\n",
      "H    0     0                       0.0001299    0.00003  77.8%     -    0s\n",
      "H    0     0                       0.0001224    0.00003  76.5%     -    0s\n",
      "     0     0    0.00003    0   21    0.00012    0.00003  76.5%     -    0s\n",
      "H    0     0                       0.0000723    0.00003  60.2%     -    0s\n",
      "     0     0    0.00003    0   21    0.00007    0.00003  59.4%     -    0s\n",
      "     0     2    0.00003    0   21    0.00007    0.00003  59.0%     -    0s\n",
      "H  150    95                       0.0000675    0.00003  56.1%  66.5    0s\n",
      "  3531  1200    0.00005   16   20    0.00007    0.00003  48.3%  57.5    5s\n",
      " 10891  5120    0.00006   26   22    0.00007    0.00004  39.2%  41.3   10s\n",
      " 18757  8683    0.00006   54   22    0.00007    0.00005  28.8%  38.7   15s\n",
      " 27427  9544     cutoff   27         0.00007    0.00006  18.0%  38.5   20s\n",
      " 30267  9779    0.00006   31   29    0.00007    0.00006  16.7%  38.9   25s\n",
      " 33205  9004     cutoff   48         0.00007    0.00006  14.0%  45.4   30s\n",
      "\n",
      "Cutting planes:\n",
      "  MIR: 19\n",
      "  Flow cover: 3\n",
      "\n",
      "Explored 33311 nodes (1515022 simplex iterations) in 30.04 seconds\n",
      "Thread count was 8 (of 8 available processors)\n",
      "\n",
      "Solution count 5: 6.75347e-05 7.23026e-05 0.000122366 ... 0.000903152\n",
      "\n",
      "Time limit reached\n",
      "Best objective 6.753470760728e-05, best bound 5.817450450656e-05, gap 13.8598%\n"
     ]
    }
   ],
   "source": [
    "# Update and solve\n",
    "mod3.reset()\n",
    "mod3.update()\n",
    "mod3.optimize()"
   ]
  },
  {
   "cell_type": "code",
   "execution_count": 91,
   "metadata": {},
   "outputs": [
    {
     "output_type": "execute_result",
     "data": {
      "text/plain": [
       "6.753470760728118e-05"
      ]
     },
     "metadata": {},
     "execution_count": 91
    }
   ],
   "source": [
    "mod3.objval"
   ]
  },
  {
   "source": [
    "The objective value is the same"
   ],
   "cell_type": "markdown",
   "metadata": {}
  },
  {
   "source": [
    "b) Set Gurobi to terminate after reaching a gap of 10% by including XYZ.Params.MIPGap = 0.1 in your code for Model 3, where ’XYZ’ is the name of your model. (Note: The default gap in Gurobi is 0.0001.) How does the solver time compare with the solution time obtained in question 1c)?"
   ],
   "cell_type": "markdown",
   "metadata": {}
  },
  {
   "cell_type": "code",
   "execution_count": 94,
   "metadata": {},
   "outputs": [
    {
     "output_type": "stream",
     "name": "stdout",
     "text": [
      "Changed value of parameter TimeLimit to 100.0\n",
      "   Prev: 30.0  Min: 0.0  Max: inf  Default: inf\n",
      "Parameter MIPGap unchanged\n",
      "   Value: 0.1  Min: 0.0  Max: inf  Default: 0.0001\n"
     ]
    }
   ],
   "source": [
    "mod3.Params.TimeLimit = 100.0 \n",
    "mod3.Params.MIPGap = 0.1"
   ]
  },
  {
   "cell_type": "code",
   "execution_count": 95,
   "metadata": {},
   "outputs": [
    {
     "output_type": "stream",
     "name": "stdout",
     "text": [
      "Discarded solution information\n",
      "Gurobi Optimizer version 9.1.0 build v9.1.0rc0 (mac64)\n",
      "Thread count: 4 physical cores, 8 logical processors, using up to 8 threads\n",
      "Optimize a model with 393 rows, 780 columns and 1560 nonzeros\n",
      "Model fingerprint: 0xc9d677c6\n",
      "Model has 76245 quadratic objective terms\n",
      "Model has 390 quadratic constraints\n",
      "Variable types: 390 continuous, 390 integer (390 binary)\n",
      "Coefficient statistics:\n",
      "  Matrix range     [1e-06, 1e+00]\n",
      "  QMatrix range    [1e+00, 1e+00]\n",
      "  QLMatrix range   [1e+00, 1e+00]\n",
      "  Objective range  [0e+00, 0e+00]\n",
      "  QObjective range [2e-07, 8e-02]\n",
      "  Bounds range     [1e+00, 1e+00]\n",
      "  RHS range        [5e-03, 4e+00]\n",
      "Presolve time: 0.01s\n",
      "Presolved: 393 rows, 780 columns, 1950 nonzeros\n",
      "Presolved model has 76245 quadratic objective terms\n",
      "Variable types: 390 continuous, 390 integer (390 binary)\n",
      "Found heuristic solution: objective 0.0009032\n",
      "\n",
      "Root relaxation: objective 2.878501e-05, 129 iterations, 0.01 seconds\n",
      "\n",
      "    Nodes    |    Current Node    |     Objective Bounds      |     Work\n",
      " Expl Unexpl |  Obj  Depth IntInf | Incumbent    BestBd   Gap | It/Node Time\n",
      "\n",
      "     0     0    0.00003    0   21    0.00090    0.00003  96.8%     -    0s\n",
      "H    0     0                       0.0001299    0.00003  77.8%     -    0s\n",
      "H    0     0                       0.0001224    0.00003  76.5%     -    0s\n",
      "     0     0    0.00003    0   21    0.00012    0.00003  76.5%     -    0s\n",
      "H    0     0                       0.0000723    0.00003  60.2%     -    0s\n",
      "     0     0    0.00003    0   21    0.00007    0.00003  60.2%     -    0s\n",
      "     0     2    0.00003    0   21    0.00007    0.00003  59.0%     -    0s\n",
      "H  150    95                       0.0000675    0.00003  56.1%  66.5    0s\n",
      "  3782  1277    0.00006   36   19    0.00007    0.00003  48.3%  55.9    5s\n",
      " 11585  5412    0.00006   31   19    0.00007    0.00004  39.2%  41.0   10s\n",
      " 20783  9093    0.00005   22   28    0.00007    0.00005  25.1%  38.1   15s\n",
      " 28027  9598     cutoff   45         0.00007    0.00006  17.8%  38.7   20s\n",
      " 30529  9627     cutoff   25         0.00007    0.00006  16.7%  39.4   25s\n",
      " 33205  8865     cutoff   48         0.00007    0.00006  14.0%  45.4   30s\n",
      " 36589  8147    0.00006   55   27    0.00007    0.00006  11.5%  51.8   36s\n",
      "\n",
      "Cutting planes:\n",
      "  MIR: 20\n",
      "  Flow cover: 5\n",
      "\n",
      "Explored 39327 nodes (2147876 simplex iterations) in 38.56 seconds\n",
      "Thread count was 8 (of 8 available processors)\n",
      "\n",
      "Solution count 5: 6.75347e-05 7.23026e-05 0.000122366 ... 0.000903152\n",
      "\n",
      "Optimal solution found (tolerance 1.00e-01)\n",
      "Best objective 6.753470760728e-05, best bound 6.085776243095e-05, gap 9.8867%\n"
     ]
    }
   ],
   "source": [
    "# Update and solve\n",
    "mod3.reset()\n",
    "mod3.update()\n",
    "mod3.optimize()"
   ]
  },
  {
   "cell_type": "code",
   "execution_count": null,
   "metadata": {},
   "outputs": [],
   "source": [
    "mod3.objval"
   ]
  },
  {
   "source": [
    "The solver time is nearly 20 seconds faster when setting a looser gap restriction."
   ],
   "cell_type": "markdown",
   "metadata": {}
  }
 ],
 "metadata": {
  "kernelspec": {
   "display_name": "Python 3",
   "language": "python",
   "name": "python3"
  },
  "language_info": {
   "codemirror_mode": {
    "name": "ipython",
    "version": 3
   },
   "file_extension": ".py",
   "mimetype": "text/x-python",
   "name": "python",
   "nbconvert_exporter": "python",
   "pygments_lexer": "ipython3",
   "version": "3.8.3-final"
  }
 },
 "nbformat": 4,
 "nbformat_minor": 2
}